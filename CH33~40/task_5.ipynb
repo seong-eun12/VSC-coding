{
 "cells": [
  {
   "cell_type": "markdown",
   "metadata": {},
   "source": [
    "datetime 모듈을 사용하여 현재 날짜와 시간을 출력하는 프로그램을 작성하세요. \n",
    "\n",
    "또한, 사용자로부터 태어난 년도를 입력받아 현재 나이를 계산하여 출력하세요."
   ]
  },
  {
   "cell_type": "code",
   "execution_count": 3,
   "metadata": {},
   "outputs": [
    {
     "name": "stdout",
     "output_type": "stream",
     "text": [
      "현재 날짜와 시간\n",
      "2024 년\n",
      "7 월\n",
      "5 일\n",
      "16 시\n",
      "24 분\n",
      "27 초\n",
      "사용자의 현재 나이는 23입니다.\n"
     ]
    }
   ],
   "source": [
    "import datetime\n",
    "\n",
    "print(\"현재 날짜와 시간\")\n",
    "\n",
    "now = datetime.datetime.now() # 현재 날짜와 시간 \n",
    "\n",
    "print(now.year,\"년\")\n",
    "print(now.month,\"월\")\n",
    "print(now.day,\"일\")\n",
    "print(now.hour,\"시\")\n",
    "print(now.minute,\"분\")\n",
    "print(now.second,\"초\")\n",
    "\n",
    "#사용자에게 태어난 년도 입력받기\n",
    "age = int(input(\"태어난 년도를 입력해주세요.\"))\n",
    "print(f\"사용자의 현재 나이는 {now.year-age}입니다.\")"
   ]
  }
 ],
 "metadata": {
  "kernelspec": {
   "display_name": "Python 3",
   "language": "python",
   "name": "python3"
  },
  "language_info": {
   "codemirror_mode": {
    "name": "ipython",
    "version": 3
   },
   "file_extension": ".py",
   "mimetype": "text/x-python",
   "name": "python",
   "nbconvert_exporter": "python",
   "pygments_lexer": "ipython3",
   "version": "3.9.6"
  }
 },
 "nbformat": 4,
 "nbformat_minor": 2
}
