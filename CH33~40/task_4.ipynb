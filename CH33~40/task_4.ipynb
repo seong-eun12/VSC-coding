{
 "cells": [
  {
   "cell_type": "markdown",
   "metadata": {},
   "source": [
    "사용자 정의 예외 NegativeNumberError를 생성하고, 사용자로부터 숫자를 입력받아 음수일 경우 NegativeNumberError를 발생시키는 프로그램을 작성하세요. \n",
    "\n",
    "- 예외 처리 구문을 사용하여 음수 입력 시 \"양수를 입력해주세요.\"라는 메시지를 출력"
   ]
  },
  {
   "cell_type": "code",
   "execution_count": 1,
   "metadata": {},
   "outputs": [
    {
     "name": "stdout",
     "output_type": "stream",
     "text": [
      "입력된 양수: 3.0\n"
     ]
    }
   ],
   "source": [
    "# 사용자 정의 예외 클래스 정의\n",
    "class NegativeNumberError(Exception):\n",
    "    def __init__(self, message=\"음수는 입력할 수 없습니다. 양수를 입력해주세요.\"):\n",
    "        self.message = message\n",
    "        super().__init__(self.message)\n",
    "\n",
    "def get_positive_number():\n",
    "    while True:\n",
    "        try:\n",
    "            number = float(input(\"양수를 입력하세요: \"))\n",
    "            if number < 0:\n",
    "                raise NegativeNumberError\n",
    "            return number\n",
    "        except ValueError:\n",
    "            print(\"잘못된 입력입니다. 숫자를 입력해주세요.\")\n",
    "        except NegativeNumberError as e:\n",
    "            print(e)\n",
    "\n",
    "# 양수 입력 받기\n",
    "positive_number = get_positive_number()\n",
    "print(f\"입력된 양수: {positive_number}\")\n"
   ]
  }
 ],
 "metadata": {
  "kernelspec": {
   "display_name": "Python 3",
   "language": "python",
   "name": "python3"
  },
  "language_info": {
   "codemirror_mode": {
    "name": "ipython",
    "version": 3
   },
   "file_extension": ".py",
   "mimetype": "text/x-python",
   "name": "python",
   "nbconvert_exporter": "python",
   "pygments_lexer": "ipython3",
   "version": "3.9.6"
  }
 },
 "nbformat": 4,
 "nbformat_minor": 2
}
