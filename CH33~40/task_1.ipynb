{
 "cells": [
  {
   "cell_type": "markdown",
   "metadata": {},
   "source": [
    "사용자로부터 두 개의 숫자를 입력받아 나눗셈을 수행하는 프로그램을 작성하세요. \n",
    "\n",
    "[예외처리]\n",
    "- 입력 값이 숫자가 아닐 때 발생할 수 있는 ValueError\n",
    "- 나누는 수가 0일 때 발생할 수 있는 ZeroDivisionError\n",
    "- 위 2가지 예외처리 후 사용자에게 이해하기 쉬운 메시지 작성 후 출력되도록 코드를 작성"
   ]
  },
  {
   "cell_type": "code",
   "execution_count": 1,
   "metadata": {},
   "outputs": [
    {
     "name": "stdout",
     "output_type": "stream",
     "text": [
      "나누는 수는 0이 될 수 없습니다. 다른 숫자를 입력해주세요.\n"
     ]
    }
   ],
   "source": [
    "def program(): #함수 선언\n",
    "    try: # 두 수 입력받기\n",
    "        num1 = int(input(\"첫 번째 숫자를 입력하세요: \"))\n",
    "        num2 = int(input(\"두 번째 숫자를 입력하세요: \"))\n",
    "        \n",
    "        result = num1 / num2 #나눗셈 싱행\n",
    "        \n",
    "    except ValueError: #입력값이 숫자가 아닌 예외처리\n",
    "        print(\"잘못된 입력입니다. 숫자를 입력해주세요.\")\n",
    "        \n",
    "    except ZeroDivisionError: #수가 0일 때 예외 처리 \n",
    "        print(\"나누는 수는 0이 될 수 없습니다. 다른 숫자를 입력해주세요.\")\n",
    "        \n",
    "    else: #예외처리가 아닐 때 결과 출력\n",
    "        print(f\"{num1} / {num2} = {result}\")\n",
    "\n",
    "program() #실행\n"
   ]
  }
 ],
 "metadata": {
  "kernelspec": {
   "display_name": "Python 3",
   "language": "python",
   "name": "python3"
  },
  "language_info": {
   "codemirror_mode": {
    "name": "ipython",
    "version": 3
   },
   "file_extension": ".py",
   "mimetype": "text/x-python",
   "name": "python",
   "nbconvert_exporter": "python",
   "pygments_lexer": "ipython3",
   "version": "3.9.6"
  }
 },
 "nbformat": 4,
 "nbformat_minor": 2
}
