{
 "cells": [
  {
   "cell_type": "markdown",
   "metadata": {},
   "source": [
    "사용자로부터 여러 개의 숫자를 입력받아 리스트에 저장한 후, 사용자가 'done'이라고 입력할 때까지 계속 입력받으세요. \n",
    "\n",
    "- 입력 중 숫자가 아닌 값이 입력되면 ValueError를 처리\n",
    "- 숫자 외 값이 입력된 경우 어떤 값이 잘못 입력되었는지 사용자에게 알려주는 문구 출력<br>\n",
    "  (예: f\"잘못된 값: {변수}. 숫자를 입력해주세요.\")\n",
    "\n"
   ]
  },
  {
   "cell_type": "code",
   "execution_count": 1,
   "metadata": {},
   "outputs": [
    {
     "name": "stdout",
     "output_type": "stream",
     "text": [
      "입력된 숫자 리스트: [3.0, 5.0]\n"
     ]
    }
   ],
   "source": [
    "def get_numbers():\n",
    "    numbers = []\n",
    "\n",
    "    while True:\n",
    "        user_input = input(\"숫자를 입력하세요 (입력을 끝내려면 'done'을 입력하세요): \")\n",
    "\n",
    "        if user_input.lower() == 'done':\n",
    "            break\n",
    "\n",
    "        try:\n",
    "            number = float(user_input)  # 입력값을 숫자로 변환\n",
    "            numbers.append(number)\n",
    "        except ValueError:\n",
    "            print(f\"잘못된 값: '{user_input}'. 숫자를 입력해주세요.\")\n",
    "\n",
    "    return numbers\n",
    "\n",
    "# 숫자 입력 받기\n",
    "numbers = get_numbers()\n",
    "\n",
    "# 입력된 숫자 리스트 출력\n",
    "print(\"입력된 숫자 리스트:\", numbers)\n"
   ]
  },
  {
   "cell_type": "markdown",
   "metadata": {},
   "source": []
  }
 ],
 "metadata": {
  "kernelspec": {
   "display_name": "Python 3",
   "language": "python",
   "name": "python3"
  },
  "language_info": {
   "codemirror_mode": {
    "name": "ipython",
    "version": 3
   },
   "file_extension": ".py",
   "mimetype": "text/x-python",
   "name": "python",
   "nbconvert_exporter": "python",
   "pygments_lexer": "ipython3",
   "version": "3.9.6"
  }
 },
 "nbformat": 4,
 "nbformat_minor": 2
}
