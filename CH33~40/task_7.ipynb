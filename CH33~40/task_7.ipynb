{
 "cells": [
  {
   "cell_type": "markdown",
   "metadata": {},
   "source": [
    "함수 실행 시간을 측정하는 데코레이터 timer_decorator를 작성하세요. \n",
    "\n",
    "임의의 함수가 실행되는 시간을 측정하여 \"함수 실행 시간: x.xx초\" 형태로 출력하세요."
   ]
  },
  {
   "cell_type": "code",
   "execution_count": 3,
   "metadata": {},
   "outputs": [
    {
     "name": "stdout",
     "output_type": "stream",
     "text": [
      "함수 실행 시간: 2.0038962364196777초\n"
     ]
    }
   ],
   "source": [
    "import time #time모듈 임포트\n",
    "from functools import wraps #functools 모듈에서 wraps함수 임포트\n",
    "\n",
    "def timer_decorator(func): #timer_director라는 함수 정의\n",
    "    #func로 데코레이터 역할 수행\n",
    "    @wraps(func)\n",
    "    def wrapper(*args, **kwargs):\n",
    "        start_time = time.time()  # 함수 실행 시작 시간 초단위로 측정\n",
    "        result = func(*args, **kwargs) #func함수 실행, 임의의 위치와 키워드 func함수에 전달\n",
    "        end_time = time.time()    # 함수 실행 종료 시간 초단위로 측정\n",
    "        \n",
    "        execution_time = end_time - start_time  # 실행 시간 계산\n",
    "        print(f\"함수 실행 시간: {execution_time}초\")\n",
    "\n",
    "        return result #함수가 반환되는 값 반환\n",
    "\n",
    "    return wrapper # time_derector함수 wrapper함수를 반환\n",
    "\n",
    "\n",
    "@timer_decorator #@이용해서 데코레이터 실행\n",
    "def example_function(): #함수 정의\n",
    "    # 임의의 작업\n",
    "    time.sleep(2) #2초 동안 프로그램을 지연시켜 임의의 작업 실행\n",
    "\n",
    "example_function()\n"
   ]
  }
 ],
 "metadata": {
  "kernelspec": {
   "display_name": "Python 3",
   "language": "python",
   "name": "python3"
  },
  "language_info": {
   "codemirror_mode": {
    "name": "ipython",
    "version": 3
   },
   "file_extension": ".py",
   "mimetype": "text/x-python",
   "name": "python",
   "nbconvert_exporter": "python",
   "pygments_lexer": "ipython3",
   "version": "3.9.6"
  }
 },
 "nbformat": 4,
 "nbformat_minor": 2
}
