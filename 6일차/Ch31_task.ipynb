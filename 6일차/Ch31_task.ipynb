{
 "cells": [
  {
   "cell_type": "markdown",
   "metadata": {},
   "source": [
    "문자열 리스트를 받아, 각 문자열의 길이를 출력하는 함수 print_lengths를 작성하세요."
   ]
  },
  {
   "cell_type": "code",
   "execution_count": 3,
   "metadata": {},
   "outputs": [
    {
     "name": "stdout",
     "output_type": "stream",
     "text": [
      "'김밥'의 길이: 2\n",
      "' 떡볶이'의 길이: 4\n",
      "' 튀김'의 길이: 3\n"
     ]
    }
   ],
   "source": [
    "def print_lengths(strings):\n",
    "    for string in strings:\n",
    "        print(f\"'{string}'의 길이: {len(string)}\")\n",
    "\n",
    "user_input = input(\"쉼표로 구분하여 문자열을 입력하세요: \")\n",
    "\n",
    "print_lengths(string_list)"
   ]
  }
 ],
 "metadata": {
  "kernelspec": {
   "display_name": "Python 3",
   "language": "python",
   "name": "python3"
  },
  "language_info": {
   "codemirror_mode": {
    "name": "ipython",
    "version": 3
   },
   "file_extension": ".py",
   "mimetype": "text/x-python",
   "name": "python",
   "nbconvert_exporter": "python",
   "pygments_lexer": "ipython3",
   "version": "3.9.6"
  }
 },
 "nbformat": 4,
 "nbformat_minor": 2
}
