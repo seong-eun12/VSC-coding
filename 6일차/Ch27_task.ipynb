{
 "cells": [
  {
   "cell_type": "markdown",
   "metadata": {},
   "source": [
    "두 숫자를 더하는 람다 함수를 작성하고, 이를 변수에 할당한 후 사용하세요."
   ]
  },
  {
   "cell_type": "code",
   "execution_count": 5,
   "metadata": {},
   "outputs": [
    {
     "name": "stdout",
     "output_type": "stream",
     "text": [
      "두 수의 합: 9\n"
     ]
    }
   ],
   "source": [
    "add = lambda a,b : a + b\n",
    "\n",
    "user_input = input(\"두 개의 정수를 입력해주세요. (콤마로 구분): \")\n",
    "\n",
    "a_str, b_str = user_input.split(',')\n",
    "a = int(a_str)\n",
    "b = int(b_str)\n",
    "\n",
    "result = add(a, b)\n",
    "print(f\"두 수의 합: {result}\")"
   ]
  }
 ],
 "metadata": {
  "kernelspec": {
   "display_name": "Python 3",
   "language": "python",
   "name": "python3"
  },
  "language_info": {
   "codemirror_mode": {
    "name": "ipython",
    "version": 3
   },
   "file_extension": ".py",
   "mimetype": "text/x-python",
   "name": "python",
   "nbconvert_exporter": "python",
   "pygments_lexer": "ipython3",
   "version": "3.9.6"
  }
 },
 "nbformat": 4,
 "nbformat_minor": 2
}
