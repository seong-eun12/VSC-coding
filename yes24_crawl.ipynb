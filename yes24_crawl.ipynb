{
 "cells": [
  {
   "cell_type": "markdown",
   "metadata": {},
   "source": [
    "### 예스 24 크롤링"
   ]
  },
  {
   "cell_type": "code",
   "execution_count": 3,
   "metadata": {},
   "outputs": [
    {
     "data": {
      "text/plain": [
       "'/Users/baeseong-eun/.wdm/drivers/chromedriver/mac64/126.0.6478.182/chromedriver-mac-x64/chromedriver'"
      ]
     },
     "execution_count": 3,
     "metadata": {},
     "output_type": "execute_result"
    }
   ],
   "source": [
    "#webdriver -manager 라이브러리 불러오기\n",
    "from webdriver_manager.chrome import ChromeDriverManager\n",
    "ChromeDriverManager().install()\n"
   ]
  },
  {
   "cell_type": "code",
   "execution_count": 4,
   "metadata": {},
   "outputs": [],
   "source": [
    "from selenium import webdriver\n",
    "browser = webdriver.Chrome()\n",
    "\n",
    "url = 'https://google.com'\n",
    "browser.get(url)"
   ]
  },
  {
   "cell_type": "code",
   "execution_count": 5,
   "metadata": {},
   "outputs": [
    {
     "data": {
      "text/plain": [
       "'대한민국'"
      ]
     },
     "execution_count": 5,
     "metadata": {},
     "output_type": "execute_result"
    }
   ],
   "source": [
    "from selenium.webdriver.common.by import By\n",
    "\n",
    "browser.find_element(By.CLASS_NAME, 'uU7dJb').text"
   ]
  },
  {
   "cell_type": "code",
   "execution_count": 6,
   "metadata": {},
   "outputs": [],
   "source": [
    "url = 'https://www.yes24.com/Product/Category/BestSeller?CategoryNumber=001&sumgb=06'\n",
    "browser.get(url)"
   ]
  },
  {
   "cell_type": "code",
   "execution_count": 7,
   "metadata": {},
   "outputs": [
    {
     "name": "stdout",
     "output_type": "stream",
     "text": [
      "https://www.yes24.com/Product/Goods/128266166\n",
      "https://www.yes24.com/Product/Goods/125557465\n",
      "https://www.yes24.com/Product/Goods/124999476\n",
      "https://www.yes24.com/Product/Goods/104663596\n",
      "https://www.yes24.com/Product/Goods/128133897\n",
      "https://www.yes24.com/Product/Goods/124225606\n",
      "https://www.yes24.com/Product/Goods/123930880\n",
      "https://www.yes24.com/Product/Goods/127094902\n",
      "https://www.yes24.com/Product/Goods/123930891\n",
      "https://www.yes24.com/Product/Goods/117014613\n",
      "https://www.yes24.com/Product/Goods/124043812\n",
      "https://www.yes24.com/Product/Goods/126511412\n",
      "https://www.yes24.com/Product/Goods/124043802\n",
      "https://www.yes24.com/Product/Goods/126845471\n",
      "https://www.yes24.com/Product/Goods/125295101\n",
      "https://www.yes24.com/Product/Goods/126702038\n",
      "https://www.yes24.com/Product/Goods/126516935\n",
      "https://www.yes24.com/Product/Goods/126590468\n",
      "https://www.yes24.com/Product/Goods/8759796\n",
      "https://www.yes24.com/Product/Goods/124539805\n",
      "https://www.yes24.com/Product/Goods/129043527\n",
      "https://www.yes24.com/Product/Goods/96547408\n",
      "https://www.yes24.com/Product/Goods/122120495\n",
      "https://www.yes24.com/Product/Goods/125576919\n"
     ]
    }
   ],
   "source": [
    "#1페이지의 링크 데이터 전부 수집\n",
    "\n",
    "###한 개의 베스트 셀러 링크 수정\n",
    "browser.find_element(By.CLASS_NAME, 'gd_name').get_attribute('href')\n",
    "\n",
    "###1페이지 전체의 링크 데이터\n",
    "# browser.find_element(BY.CLASS_NAME, 'gd_name') #elements : 요소\n",
    "datas = browser.find_elements(By.CLASS_NAME, 'gd_name') #elements : 리스트\n",
    "\n",
    "for i in datas:\n",
    "    print(i.get_attribute('href'))"
   ]
  },
  {
   "cell_type": "code",
   "execution_count": 8,
   "metadata": {},
   "outputs": [
    {
     "name": "stdout",
     "output_type": "stream",
     "text": [
      "********** 현재 1 페이지 수집 중 입니다. **********\n",
      "********** 현재 2 페이지 수집 중 입니다. **********\n",
      "********** 현재 3 페이지 수집 중 입니다. **********\n",
      "['https://www.yes24.com/Product/Goods/128266166', 'https://www.yes24.com/Product/Goods/125557465', 'https://www.yes24.com/Product/Goods/124999476', 'https://www.yes24.com/Product/Goods/104663596', 'https://www.yes24.com/Product/Goods/128133897', 'https://www.yes24.com/Product/Goods/124225606', 'https://www.yes24.com/Product/Goods/123930880', 'https://www.yes24.com/Product/Goods/127094902', 'https://www.yes24.com/Product/Goods/123930891', 'https://www.yes24.com/Product/Goods/117014613', 'https://www.yes24.com/Product/Goods/124043812', 'https://www.yes24.com/Product/Goods/126511412', 'https://www.yes24.com/Product/Goods/124043802', 'https://www.yes24.com/Product/Goods/126845471', 'https://www.yes24.com/Product/Goods/125295101', 'https://www.yes24.com/Product/Goods/126702038', 'https://www.yes24.com/Product/Goods/126516935', 'https://www.yes24.com/Product/Goods/126590468', 'https://www.yes24.com/Product/Goods/8759796', 'https://www.yes24.com/Product/Goods/124539805', 'https://www.yes24.com/Product/Goods/129043527', 'https://www.yes24.com/Product/Goods/96547408', 'https://www.yes24.com/Product/Goods/122120495', 'https://www.yes24.com/Product/Goods/125576919', 'https://www.yes24.com/Product/Goods/128266166', 'https://www.yes24.com/Product/Goods/125557465', 'https://www.yes24.com/Product/Goods/124999476', 'https://www.yes24.com/Product/Goods/104663596', 'https://www.yes24.com/Product/Goods/128133897', 'https://www.yes24.com/Product/Goods/124225606', 'https://www.yes24.com/Product/Goods/123930880', 'https://www.yes24.com/Product/Goods/127094902', 'https://www.yes24.com/Product/Goods/123930891', 'https://www.yes24.com/Product/Goods/117014613', 'https://www.yes24.com/Product/Goods/124043812', 'https://www.yes24.com/Product/Goods/126511412', 'https://www.yes24.com/Product/Goods/124043802', 'https://www.yes24.com/Product/Goods/126845471', 'https://www.yes24.com/Product/Goods/125295101', 'https://www.yes24.com/Product/Goods/126702038', 'https://www.yes24.com/Product/Goods/126516935', 'https://www.yes24.com/Product/Goods/126590468', 'https://www.yes24.com/Product/Goods/8759796', 'https://www.yes24.com/Product/Goods/124539805', 'https://www.yes24.com/Product/Goods/129043527', 'https://www.yes24.com/Product/Goods/96547408', 'https://www.yes24.com/Product/Goods/122120495', 'https://www.yes24.com/Product/Goods/125576919', 'https://www.yes24.com/Product/Goods/128266166', 'https://www.yes24.com/Product/Goods/125557465', 'https://www.yes24.com/Product/Goods/124999476', 'https://www.yes24.com/Product/Goods/104663596', 'https://www.yes24.com/Product/Goods/128133897', 'https://www.yes24.com/Product/Goods/124225606', 'https://www.yes24.com/Product/Goods/123930880', 'https://www.yes24.com/Product/Goods/127094902', 'https://www.yes24.com/Product/Goods/123930891', 'https://www.yes24.com/Product/Goods/117014613', 'https://www.yes24.com/Product/Goods/124043812', 'https://www.yes24.com/Product/Goods/126511412', 'https://www.yes24.com/Product/Goods/124043802', 'https://www.yes24.com/Product/Goods/126845471', 'https://www.yes24.com/Product/Goods/125295101', 'https://www.yes24.com/Product/Goods/126702038', 'https://www.yes24.com/Product/Goods/126516935', 'https://www.yes24.com/Product/Goods/126590468', 'https://www.yes24.com/Product/Goods/8759796', 'https://www.yes24.com/Product/Goods/124539805', 'https://www.yes24.com/Product/Goods/129043527', 'https://www.yes24.com/Product/Goods/96547408', 'https://www.yes24.com/Product/Goods/122120495', 'https://www.yes24.com/Product/Goods/125576919']\n"
     ]
    }
   ],
   "source": [
    "#3페이지까지의 링크 데이터 전부 수집\n",
    "#https://www.yes24.com/Product/Category/BestSeller?CategoryNumber=001&sumgb=06\n",
    "#https://www.yes24.com/Product/Category/BestSeller?categoryNumber=001&pageNumber=2&pageSize=24\n",
    "#https://www.yes24.com/Product/Category/BestSeller?categoryNumber=001&pageNumber=3&pageSize=24\n",
    "\n",
    "import time\n",
    "\n",
    "link_list = []\n",
    "for i in range(1,4):\n",
    "    print(\"*\" * 10, f\"현재 {i} 페이지 수집 중 입니다.\",\"*\"*10)\n",
    "    \n",
    "    url = f'https://www.yes24.com/Product/Category/BestSeller?CategoryNumber=001&sumgb=06'\n",
    "    browser.get(url)\n",
    "\n",
    "    browser. find_element(By.CLASS_NAME, 'gd_name').get_attribute('href')\n",
    "    ###1페이지 전체의 링크 데이터\n",
    "    # browser.find_element(BY.CLASS_NAME, 'gd_name') #elements : 요소\n",
    "    datas = browser.find_elements(By.CLASS_NAME, 'gd_name') #elements : 리스트\n",
    "\n",
    "    for i in datas:\n",
    "        link = i.get_attribute('href')\n",
    "        link_list.append(link)\n",
    "    \n",
    "    time.sleep(3)\n",
    "    \n",
    "print(link_list)\n",
    "    "
   ]
  },
  {
   "cell_type": "code",
   "execution_count": 9,
   "metadata": {},
   "outputs": [
    {
     "data": {
      "text/plain": [
       "72"
      ]
     },
     "execution_count": 9,
     "metadata": {},
     "output_type": "execute_result"
    }
   ],
   "source": [
    "len(link_list)"
   ]
  },
  {
   "cell_type": "code",
   "execution_count": 11,
   "metadata": {},
   "outputs": [
    {
     "name": "stdout",
     "output_type": "stream",
     "text": [
      "https://www.yes24.com/Product/Goods/128266166\n",
      "https://www.yes24.com/Product/Goods/125557465\n",
      "https://www.yes24.com/Product/Goods/124999476\n",
      "https://www.yes24.com/Product/Goods/104663596\n",
      "https://www.yes24.com/Product/Goods/128133897\n",
      "https://www.yes24.com/Product/Goods/124225606\n",
      "https://www.yes24.com/Product/Goods/123930880\n",
      "https://www.yes24.com/Product/Goods/127094902\n",
      "https://www.yes24.com/Product/Goods/123930891\n",
      "https://www.yes24.com/Product/Goods/117014613\n",
      "https://www.yes24.com/Product/Goods/124043812\n",
      "https://www.yes24.com/Product/Goods/126511412\n",
      "https://www.yes24.com/Product/Goods/124043802\n",
      "https://www.yes24.com/Product/Goods/126845471\n",
      "https://www.yes24.com/Product/Goods/125295101\n",
      "https://www.yes24.com/Product/Goods/126702038\n",
      "https://www.yes24.com/Product/Goods/126516935\n",
      "https://www.yes24.com/Product/Goods/126590468\n",
      "https://www.yes24.com/Product/Goods/8759796\n",
      "https://www.yes24.com/Product/Goods/124539805\n",
      "https://www.yes24.com/Product/Goods/129043527\n",
      "https://www.yes24.com/Product/Goods/96547408\n",
      "https://www.yes24.com/Product/Goods/122120495\n",
      "https://www.yes24.com/Product/Goods/125576919\n",
      "https://www.yes24.com/Product/Goods/128266166\n",
      "https://www.yes24.com/Product/Goods/125557465\n",
      "https://www.yes24.com/Product/Goods/124999476\n",
      "https://www.yes24.com/Product/Goods/104663596\n",
      "https://www.yes24.com/Product/Goods/128133897\n",
      "https://www.yes24.com/Product/Goods/124225606\n",
      "https://www.yes24.com/Product/Goods/123930880\n",
      "https://www.yes24.com/Product/Goods/127094902\n",
      "https://www.yes24.com/Product/Goods/123930891\n",
      "https://www.yes24.com/Product/Goods/117014613\n",
      "https://www.yes24.com/Product/Goods/124043812\n",
      "https://www.yes24.com/Product/Goods/126511412\n",
      "https://www.yes24.com/Product/Goods/124043802\n",
      "https://www.yes24.com/Product/Goods/126845471\n",
      "https://www.yes24.com/Product/Goods/125295101\n",
      "https://www.yes24.com/Product/Goods/126702038\n",
      "https://www.yes24.com/Product/Goods/126516935\n",
      "https://www.yes24.com/Product/Goods/126590468\n",
      "https://www.yes24.com/Product/Goods/8759796\n",
      "https://www.yes24.com/Product/Goods/124539805\n",
      "https://www.yes24.com/Product/Goods/129043527\n",
      "https://www.yes24.com/Product/Goods/96547408\n",
      "https://www.yes24.com/Product/Goods/122120495\n",
      "https://www.yes24.com/Product/Goods/125576919\n",
      "https://www.yes24.com/Product/Goods/128266166\n",
      "https://www.yes24.com/Product/Goods/125557465\n",
      "https://www.yes24.com/Product/Goods/124999476\n",
      "https://www.yes24.com/Product/Goods/104663596\n",
      "https://www.yes24.com/Product/Goods/128133897\n",
      "https://www.yes24.com/Product/Goods/124225606\n",
      "https://www.yes24.com/Product/Goods/123930880\n",
      "https://www.yes24.com/Product/Goods/127094902\n",
      "https://www.yes24.com/Product/Goods/123930891\n",
      "https://www.yes24.com/Product/Goods/117014613\n",
      "https://www.yes24.com/Product/Goods/124043812\n",
      "https://www.yes24.com/Product/Goods/126511412\n",
      "https://www.yes24.com/Product/Goods/124043802\n",
      "https://www.yes24.com/Product/Goods/126845471\n",
      "https://www.yes24.com/Product/Goods/125295101\n",
      "https://www.yes24.com/Product/Goods/126702038\n",
      "https://www.yes24.com/Product/Goods/126516935\n",
      "https://www.yes24.com/Product/Goods/126590468\n",
      "https://www.yes24.com/Product/Goods/8759796\n",
      "https://www.yes24.com/Product/Goods/124539805\n",
      "https://www.yes24.com/Product/Goods/129043527\n",
      "https://www.yes24.com/Product/Goods/96547408\n",
      "https://www.yes24.com/Product/Goods/122120495\n",
      "https://www.yes24.com/Product/Goods/125576919\n"
     ]
    }
   ],
   "source": [
    "for link in link_list:\n",
    "    #상세 페이지로 이동\n",
    "    #browser.get(link)\n",
    "    \n",
    "    \n",
    "    print(link)"
   ]
  },
  {
   "cell_type": "code",
   "execution_count": 12,
   "metadata": {},
   "outputs": [],
   "source": [
    "# for link in link_list:\n",
    "    #상세 페이지로 이동\n",
    "    #browser.get(link)\n",
    "    \n",
    "browser.get(link_list[0])\n",
    "\n",
    "title = browser.find_element(By.CLASS_NAME, 'gd_name').text\n",
    "author = browser.find_element(By.CLASS_NAME,'gd_auth').text\n",
    "publisher = browser.find_element(By.CLASS_NAME,'gd_pub').text\n",
    "publishing = browser.find_element(By.CLASS_NAME,'gd_date').text\n",
    "rating = browser.find_element(By.CLASS_NAME,'yes_b').text\n",
    "reviews = browser.find_element(By.CLASS_NAME,'txC_blue').text\n",
    "sales = browser.find_element(By.CLASS_NAME,'gd_sellNum').text.split(\" \")[2]\n",
    "price = browser.find_element(By.CLASS_NAME, 'yes_m').text[:-1]\n",
    "ranking = browser.find_element(By.CLASS_NAME,'gd_best').text.split(\" | \")[0]\n",
    "ranking_weeks = browser.find_element(By.CLASS_NAME,'gd_best').text.split(\" | \")[1]\n",
    "\n",
    "\n"
   ]
  },
  {
   "cell_type": "code",
   "execution_count": 75,
   "metadata": {},
   "outputs": [
    {
     "data": {
      "text/plain": [
       "'932,772'"
      ]
     },
     "execution_count": 75,
     "metadata": {},
     "output_type": "execute_result"
    }
   ],
   "source": [
    "text = \"'| 판매지수 932,772 판매지수란?'\"\n",
    "\n",
    "text.split(\" \")[2]"
   ]
  },
  {
   "cell_type": "code",
   "execution_count": 72,
   "metadata": {},
   "outputs": [
    {
     "data": {
      "text/plain": [
       "[\"'베스트 국내도서 1위\", \"국내도서 1위 5주'\"]"
      ]
     },
     "execution_count": 72,
     "metadata": {},
     "output_type": "execute_result"
    }
   ],
   "source": [
    "text = \"'베스트 국내도서 1위 | 국내도서 1위 5주'\"\n",
    "\n",
    "text.split(\" | \")"
   ]
  },
  {
   "cell_type": "code",
   "execution_count": null,
   "metadata": {},
   "outputs": [
    {
     "ename": "",
     "evalue": "",
     "output_type": "error",
     "traceback": [
      "\u001b[1;31mFailed to start the Kernel. \n",
      "\u001b[1;31mView Jupyter <a href='command:jupyter.viewOutput'>log</a> for further details."
     ]
    }
   ],
   "source": [
    "import pymysql\n",
    "from selenium import webdriver\n",
    "from selenium.webdriver.common.by import By\n",
    "from selenium.common.exceptions import NoSuchElementException\n",
    "import time\n",
    "import re\n",
    "from datetime import datetime\n",
    "\n",
    "# MySQL 연결 설정\n",
    "conn = pymysql.connect(\n",
    "    host='localhost',\n",
    "    user='root',\n",
    "    password='12345678',\n",
    "    db='yes24',\n",
    "    charset='utf8mb4',\n",
    "    cursorclass=pymysql.cursors.DictCursor\n",
    ")\n",
    "\n",
    "# Selenium WebDriver 설정\n",
    "browser = webdriver.Chrome()  # 크롬 드라이버 사용\n",
    "\n",
    "link_data = []\n",
    "for page in range(1, 4):\n",
    "    url = f'https://www.yes24.com/Product/Category/BestSeller?CategoryNumber=001&sumgb=06'\n",
    "    browser.get(url)\n",
    "    \n",
    "    # 링크 수집\n",
    "    data = browser.find_elements(By.CLASS_NAME, 'gd_name')  # elements - 리스트\n",
    "    print(f\"{page}번째 페이지 내용을 가져옵니다.....\")\n",
    "    for i in data:\n",
    "        link_data.append(i.get_attribute('href'))\n",
    "    time.sleep(5)\n",
    "\n",
    "with conn.cursor() as cur:\n",
    "    for link in link_data:\n",
    "        browser.get(link)\n",
    "        \n",
    "        try:\n",
    "            title = browser.find_element(By.CLASS_NAME, 'gd_name').text\n",
    "            author = browser.find_element(By.CLASS_NAME, 'gd_auth').text\n",
    "            publisher = browser.find_element(By.CLASS_NAME, 'gd_pub').text\n",
    "            \n",
    "            publishing = browser.find_element(By.CLASS_NAME, 'gd_date').text\n",
    "            match = re.search(r'(\\d+)년 (\\d+)월 (\\d+)일', publishing)\n",
    "            if match:\n",
    "                year, month, day = match.groups()\n",
    "                date_obj = datetime(int(year), int(month), int(day))\n",
    "                publishing = date_obj.strftime('%Y-%m-%d')\n",
    "            else:\n",
    "                publishing = '2024-01-01'\n",
    "            \n",
    "            try:\n",
    "                rating_area = browser.find_element(By.CLASS_NAME, 'gd_ratingArea')\n",
    "                try:\n",
    "                    rating_element = rating_area.find_element(By.CLASS_NAME, 'yes_b')\n",
    "                    rating = rating_element.text\n",
    "                    rating = float(rating.replace(',', '')) if rating else 0.0\n",
    "                except NoSuchElementException:\n",
    "                    rating = 0.0\n",
    "            except NoSuchElementException:\n",
    "                rating = 0.0\n",
    "            \n",
    "            try:\n",
    "                review = browser.find_element(By.CLASS_NAME, 'txC_blue').text\n",
    "                review = int(review.replace(',', ''))\n",
    "            except NoSuchElementException:\n",
    "                review = 0\n",
    "            \n",
    "            sales = browser.find_element(By.CLASS_NAME, 'gd_sellNum').text.split(\" \")[2]\n",
    "            sales = int(sales.replace(',', ''))\n",
    "            \n",
    "            price = browser.find_element(By.CLASS_NAME, 'yes_m').text[:-1]\n",
    "            price = int(price.replace(',', ''))\n",
    "            \n",
    "            full_text = browser.find_element(By.CLASS_NAME, 'gd_best').text\n",
    "            ranking_text = full_text.split(\" | \")\n",
    "            ranking = ranking_text[0] if len(ranking_text) > 0 else None\n",
    "            ranking_weeks = ranking_text[1] if len(ranking_text) > 1 else None\n",
    "            \n",
    "            sql = \"\"\"INSERT INTO BOOKS(\n",
    "                title, author, publisher, publishing, rating, reviews, sales, price, ranking, ranking_weeks\n",
    "            ) VALUES (%s, %s, %s, %s, %s, %s, %s, %s, %s, %s)\"\"\"\n",
    "            \n",
    "            cur.execute(sql, (title, author, publisher, publishing, rating, review, sales, price, ranking, ranking_weeks))\n",
    "            conn.commit()\n",
    "        \n",
    "        except Exception as e:\n",
    "            print(f\"Error processing link {link}: {e}\")\n",
    "\n",
    "browser.quit()\n",
    "conn.close()"
   ]
  }
 ],
 "metadata": {
  "kernelspec": {
   "display_name": "Python 3 (ipykernel)",
   "language": "python",
   "name": "python3"
  }
 },
 "nbformat": 4,
 "nbformat_minor": 2
}
