{
 "cells": [
  {
   "cell_type": "markdown",
   "metadata": {},
   "source": [
    "[문제]\n",
    "\n",
    "'Account' 클래스를 작성하세요. \n",
    "\n",
    "이 클래스는 소유자(owner)와 잔액(balance)을 속성으로 가지며, 잔액은 프라이빗 변수로 선언합니다. \n",
    "\n",
    "'deposit'와 'withdraw' 두 개의 메소드를 통해 잔액을 조작할 수 있도록 하세요. \n",
    "\n",
    "이 때, 잔액은 음수가 될 수 없도록 체크해야 합니다. 'Account' 객체를 생성하고,<br>\n",
    "입금 및 출금 작업을 시뮬레이션한 후, 최종 잔액을 출력하세요."
   ]
  },
  {
   "cell_type": "code",
   "execution_count": 15,
   "metadata": {},
   "outputs": [
    {
     "name": "stdout",
     "output_type": "stream",
     "text": [
      "결과\n",
      "배성은님 50000원 입금후 남은 잔액은 500000원 입니다.\n",
      "현재 잔액은 총 500000원 입니다.\n",
      "\n",
      "배성은님 150000출금 후 남은 잔액은 500000원 입니다.\n",
      "현재 잔액은 총 500000원 입니다.\n"
     ]
    }
   ],
   "source": [
    "class Account:\n",
    "    balance = 0 #잔액 초기값 0원 설정\n",
    "    def __init__(self,owner,balance):\n",
    "        self.owner = owner\n",
    "        self.__balance = balance #잔액은 프라이빗 변수 선언\n",
    "\n",
    "    def deposit(self, num): #입금을 이용한 잔액 변경\n",
    "        if num >0:#양수일경우 잔액 변경\n",
    "            self.balance += num\n",
    "            print(f'{self.owner}님 {num}원 입금후 남은 잔액은 {self.__balance}원 입니다.')\n",
    "        else:\n",
    "            print(f'입금액은 음수가 될 수 없습니다. 다시 시도해 주세요.')\n",
    "\n",
    "    def withdraw(self, num): #출금을 이용한 잔액 변경\n",
    "        if 0 < num < self.__balance:\n",
    "            self.balance -= num\n",
    "            print(f'{self.owner}님 {num}출금 후 남은 잔액은 {self.__balance}원 입니다.')\n",
    "            \n",
    "        else:\n",
    "            print(f'출금액이 음수이거나, 현재 잔액보다 클 수 없습니다. 다시 시도해주세요.')\n",
    "\n",
    "    def check__balance(self):\n",
    "        print(f'현재 잔액은 총 {self.__balance}원 입니다.')        \n",
    "\n",
    "#Account 객체 생성\n",
    "account = Account(\"배성은\",500000)\n",
    "\n",
    "#입금및 출금 작업 시뮬레이션 및 최종 잔액 출력\n",
    "print(\"결과\")\n",
    "account.deposit(50000) # 입금 \n",
    "account.check__balance() #남은 금액\n",
    "print() #한 줄 띄우기\n",
    "account.withdraw(150000) #출금\n",
    "account.check__balance() # 남은 금액\n",
    "\n",
    "\n"
   ]
  }
 ],
 "metadata": {
  "kernelspec": {
   "display_name": "Python 3",
   "language": "python",
   "name": "python3"
  },
  "language_info": {
   "codemirror_mode": {
    "name": "ipython",
    "version": 3
   },
   "file_extension": ".py",
   "mimetype": "text/x-python",
   "name": "python",
   "nbconvert_exporter": "python",
   "pygments_lexer": "ipython3",
   "version": "3.9.6"
  }
 },
 "nbformat": 4,
 "nbformat_minor": 2
}
