{
 "cells": [
  {
   "cell_type": "markdown",
   "metadata": {},
   "source": [
    "함수 실행 시간을 측정하는 데코레이터 timer_decorator를 작성하세요. \n",
    "\n",
    "임의의 함수가 실행되는 시간을 측정하여 \"함수 실행 시간: x.xx초\" 형태로 출력하세요."
   ]
  },
  {
   "cell_type": "code",
   "execution_count": 3,
   "metadata": {},
   "outputs": [],
   "source": [
    "import time\n",
    "\n",
    "def timer_decorator(func):\n",
    "    def wrapper(*args, **kwargs):\n",
    "        start_time = time.time()  # 함수 실행 시작 시간 기록\n",
    "        result = func(*args, **kwargs)  # 함수 실행\n",
    "        end_time = time.time()  # 함수 실행 종료 시간 기록\n",
    "        execution_time = end_time - start_time  # 실행 시간 계산\n",
    "        print(f\"함수 실행 시간: {execution_time: }초\")\n",
    "        return result\n",
    "    return wrapper"
   ]
  },
  {
   "cell_type": "code",
   "execution_count": 5,
   "metadata": {},
   "outputs": [
    {
     "name": "stdout",
     "output_type": "stream",
     "text": [
      "함수 실행 시간:  2.50356125831604초\n",
      "실행이 완료되었습니다. 대기 시간: 2.5초\n"
     ]
    }
   ],
   "source": [
    "@timer_decorator\n",
    "def example_function(seconds):\n",
    "    time.sleep(seconds)  # 함수 실행 시간\n",
    "    return f'실행이 완료되었습니다. 대기 시간: {seconds}초'\n",
    "\n",
    "# 함수 실행\n",
    "result = example_function(2.5)\n",
    "print(result)"
   ]
  }
 ],
 "metadata": {
  "kernelspec": {
   "display_name": "Python 3",
   "language": "python",
   "name": "python3"
  },
  "language_info": {
   "codemirror_mode": {
    "name": "ipython",
    "version": 3
   },
   "file_extension": ".py",
   "mimetype": "text/x-python",
   "name": "python",
   "nbconvert_exporter": "python",
   "pygments_lexer": "ipython3",
   "version": "3.11.4"
  }
 },
 "nbformat": 4,
 "nbformat_minor": 2
}
